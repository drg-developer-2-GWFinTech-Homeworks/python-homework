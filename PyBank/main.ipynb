{
 "cells": [
  {
   "cell_type": "code",
   "execution_count": 1,
   "metadata": {},
   "outputs": [
    {
     "name": "stdout",
     "output_type": "stream",
     "text": [
      "38382578\n",
      "\n"
     ]
    }
   ],
   "source": [
    "# Import the pathlib and csv library\n",
    "from pathlib import Path\n",
    "import csv\n",
    "\n",
    "# Set the file path\n",
    "csvpath = Path('Resources/budget_data.csv')\n",
    "\n",
    "# Initializations\n",
    "records = []\n",
    "numMonths = 0\n",
    "profit_total = 0\n",
    "maxMonthlyProfitability = None\n",
    "minMonthlyProfitability = None\n",
    "\n",
    "# Open the csv file as an object\n",
    "with open(csvpath, 'r') as csvfile:\n",
    "\n",
    "    # Read header\n",
    "    csvreader = csv.reader(csvfile, delimiter=',')\n",
    "    csv_header = next(csvreader)\n",
    "\n",
    "    # Read each row of data after the header\n",
    "    for row in csvreader:\n",
    "        \n",
    "        month = row[0]\n",
    "        monthlyProfit = int(row[1])\n",
    "        \n",
    "        # Stats\n",
    "        numMonths += 1\n",
    "        profit_total += monthlyProfit\n",
    "        \n",
    "        #TODO change to correct cacluation per readme\n",
    "        \n",
    "        if (maxMonthlyProfitability is None) or (monthlyProfit > maxMonthlyProfitability):\n",
    "            maxMonthlyProfitability = monthlyProfit\n",
    "        if (minMonthlyProfitability is None) or (monthlyProfit < minMonthlyProfitability):\n",
    "            minMonthlyProfitability = monthlyProfit\n",
    "\n",
    "# Generate report\n",
    "#reportString = generateReport()\n",
    "print(profit_total)\n",
    "print()\n",
    "#print(reportString)\n"
   ]
  },
  {
   "cell_type": "code",
   "execution_count": null,
   "metadata": {},
   "outputs": [],
   "source": []
  }
 ],
 "metadata": {
  "kernelspec": {
   "display_name": "Python 3",
   "language": "python",
   "name": "python3"
  },
  "language_info": {
   "codemirror_mode": {
    "name": "ipython",
    "version": 3
   },
   "file_extension": ".py",
   "mimetype": "text/x-python",
   "name": "python",
   "nbconvert_exporter": "python",
   "pygments_lexer": "ipython3",
   "version": "3.7.7"
  }
 },
 "nbformat": 4,
 "nbformat_minor": 4
}
