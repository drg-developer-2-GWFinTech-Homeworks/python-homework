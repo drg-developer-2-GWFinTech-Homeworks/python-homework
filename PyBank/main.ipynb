{
 "cells": [
  {
   "cell_type": "code",
   "execution_count": 4,
   "metadata": {},
   "outputs": [
    {
     "ename": "NameError",
     "evalue": "name 'generateReport' is not defined",
     "output_type": "error",
     "traceback": [
      "\u001b[0;31m---------------------------------------------------------------------------\u001b[0m",
      "\u001b[0;31mNameError\u001b[0m                                 Traceback (most recent call last)",
      "\u001b[0;32m<ipython-input-4-1c16aab92647>\u001b[0m in \u001b[0;36m<module>\u001b[0;34m\u001b[0m\n\u001b[1;32m     39\u001b[0m \u001b[0;34m\u001b[0m\u001b[0m\n\u001b[1;32m     40\u001b[0m \u001b[0;31m# Generate report\u001b[0m\u001b[0;34m\u001b[0m\u001b[0;34m\u001b[0m\u001b[0;34m\u001b[0m\u001b[0m\n\u001b[0;32m---> 41\u001b[0;31m \u001b[0mreportString\u001b[0m \u001b[0;34m=\u001b[0m \u001b[0mgenerateReport\u001b[0m\u001b[0;34m(\u001b[0m\u001b[0;34m)\u001b[0m\u001b[0;34m\u001b[0m\u001b[0;34m\u001b[0m\u001b[0m\n\u001b[0m\u001b[1;32m     42\u001b[0m \u001b[0mprint\u001b[0m\u001b[0;34m(\u001b[0m\u001b[0mprofit_total\u001b[0m\u001b[0;34m)\u001b[0m\u001b[0;34m\u001b[0m\u001b[0;34m\u001b[0m\u001b[0m\n\u001b[1;32m     43\u001b[0m \u001b[0mprint\u001b[0m\u001b[0;34m(\u001b[0m\u001b[0;34m)\u001b[0m\u001b[0;34m\u001b[0m\u001b[0;34m\u001b[0m\u001b[0m\n",
      "\u001b[0;31mNameError\u001b[0m: name 'generateReport' is not defined"
     ]
    }
   ],
   "source": [
    "# Import the pathlib and csv library\n",
    "from pathlib import Path\n",
    "import csv\n",
    "import pyBankFunctions\n",
    "\n",
    "# Set the file path\n",
    "csvpath = Path('Resources/budget_data.csv')\n",
    "\n",
    "# Initializations\n",
    "month_counter = 0\n",
    "total_profit = 0\n",
    "\n",
    "change_in_monthly_profit = 0\n",
    "previous_monthly_profit = None\n",
    "\n",
    "biggest_monthly_gain = None\n",
    "worst_monthly_loss = None\n",
    "\n",
    "# Open the csv file as an object\n",
    "with open(csvpath, 'r') as csvfile:\n",
    "\n",
    "    # Read header\n",
    "    csvreader = csv.reader(csvfile, delimiter=',')\n",
    "    csv_header = next(csvreader)\n",
    "\n",
    "    # Read each row of data after the header\n",
    "    for row in csvreader:\n",
    "        \n",
    "        # Get current month and profit\n",
    "        month = row[0]\n",
    "        current_monthly_profit = int(row[1])\n",
    "        \n",
    "        # Stats\n",
    "        month_counter += 1\n",
    "        total_profit += current_monthly_profit\n",
    "        \n",
    "        # Compute current iteration change in monthly profit\n",
    "        if previous_monthly_profit is None:\n",
    "            change_in_monthly_profit = 0\n",
    "            previous_monthly_profit = current_monthly_profit\n",
    "        else:\n",
    "            change_in_monthly_profit = current_monthly_profit - previous_monthly_profit\n",
    "            previous_monthly_profit = current_monthly_profit\n",
    "        \n",
    "        # Compute total montly profit change\n",
    "        total_change_in_monthly_profit += change_in_monthly_profit\n",
    "        \n",
    "        # Get best and worst changes in monthly profit\n",
    "        if (biggest_monthly_gain is None) or (monthlyProfit > biggest_monthly_gain):\n",
    "            biggest_monthly_gain = monthlyProfit\n",
    "        if (worst_monthly_loss is None) or (monthlyProfit < worst_monthly_loss):\n",
    "            worst_monthly_loss = monthlyProfit\n",
    "\n",
    "            \n",
    "average_change_in_monthly_profit = total_change_in_monthly_profit / (month_counter - 1)\n",
    "\n",
    "# Generate report\n",
    "reportString = generateReport2()\n",
    "#reportString = generateReport(number_of_months, total_profit, average_change_in_monthly_profit,\n",
    "#                  best_monthly_change_month, best_monthly_change_value,\n",
    "#                  worst_monthly_change_month, worst_monthly_change_value)\n",
    "#print(total_profit)\n",
    "#print()\n",
    "#print(reportString)\n"
   ]
  },
  {
   "cell_type": "code",
   "execution_count": null,
   "metadata": {},
   "outputs": [],
   "source": []
  }
 ],
 "metadata": {
  "kernelspec": {
   "display_name": "Python 3",
   "language": "python",
   "name": "python3"
  },
  "language_info": {
   "codemirror_mode": {
    "name": "ipython",
    "version": 3
   },
   "file_extension": ".py",
   "mimetype": "text/x-python",
   "name": "python",
   "nbconvert_exporter": "python",
   "pygments_lexer": "ipython3",
   "version": "3.8.3"
  }
 },
 "nbformat": 4,
 "nbformat_minor": 4
}
